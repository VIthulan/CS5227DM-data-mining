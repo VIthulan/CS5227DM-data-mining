{
 "cells": [
  {
   "cell_type": "code",
   "execution_count": 1,
   "metadata": {},
   "outputs": [],
   "source": [
    "import pandas as pd"
   ]
  },
  {
   "cell_type": "code",
   "execution_count": 2,
   "metadata": {},
   "outputs": [],
   "source": [
    "T40I10D100K_PATH = \"data/T40I10D100K.dat\"\n",
    "T10I4D100K_PATH = \"data/T10I4D100K.dat\"\n",
    "mushroom_PATH = \"data/mushroom.dat\""
   ]
  },
  {
   "cell_type": "markdown",
   "metadata": {},
   "source": [
    "# Data loading"
   ]
  },
  {
   "cell_type": "code",
   "execution_count": 25,
   "metadata": {},
   "outputs": [],
   "source": [
    "T10I4D100K = [i.strip().split() for i in open(T40I10D100K_PATH).readlines()]\n",
    "T40I10D100K=[i.strip().split() for i in open(T10I4D100K_PATH).readlines()]\n",
    "mushroom=[i.strip().split() for i in open(mushroom_PATH).readlines()]"
   ]
  },
  {
   "cell_type": "code",
   "execution_count": 26,
   "metadata": {},
   "outputs": [],
   "source": [
    "T10I4D100K_relative_support=[0.3,0.5,1,1.5,2,2.5,3]\n",
    "T40I10D100K_relative_support=[0.3,0.5,1,1.5,2,2.5,3]\n",
    "mushroom_relative_support=[4,7,10,13,16,20]"
   ]
  },
  {
   "cell_type": "markdown",
   "metadata": {},
   "source": [
    "# Apriori"
   ]
  },
  {
   "cell_type": "code",
   "execution_count": 27,
   "metadata": {},
   "outputs": [],
   "source": [
    "from apyori import apriori\n",
    "import time"
   ]
  },
  {
   "cell_type": "code",
   "execution_count": 28,
   "metadata": {},
   "outputs": [],
   "source": [
    "def apriori_function(dataset,min_support):\n",
    "    start = time.process_time()\n",
    "    association_rules = apriori(dataset, min_support=min_support/100)\n",
    "    elapsed_time_secs = time.time() - start\n",
    "    return elapsed_time_secs"
   ]
  },
  {
   "cell_type": "markdown",
   "metadata": {},
   "source": [
    "## T40I10D100K dataset"
   ]
  },
  {
   "cell_type": "code",
   "execution_count": 29,
   "metadata": {},
   "outputs": [],
   "source": [
    "T10I4D100K_apriori_time=[apriori_function(T10I4D100K, i) for i in T10I4D100K_relative_support]"
   ]
  },
  {
   "cell_type": "code",
   "execution_count": 30,
   "metadata": {},
   "outputs": [
    {
     "data": {
      "text/plain": [
       "[1613286908.287719,\n",
       " 1613286908.287696,\n",
       " 1613286908.287696,\n",
       " 1613286908.2876952,\n",
       " 1613286908.2876952,\n",
       " 1613286908.287705,\n",
       " 1613286908.2876952]"
      ]
     },
     "execution_count": 30,
     "metadata": {},
     "output_type": "execute_result"
    }
   ],
   "source": [
    "T10I4D100K_apriori_time"
   ]
  },
  {
   "cell_type": "code",
   "execution_count": 31,
   "metadata": {},
   "outputs": [],
   "source": [
    "T10I4D100K_apriori=pd.DataFrame()\n",
    "T10I4D100K_apriori[\"relative_support\"]=T10I4D100K_relative_support\n",
    "T10I4D100K_apriori['model_running_time']=T10I4D100K_apriori_time"
   ]
  },
  {
   "cell_type": "code",
   "execution_count": 32,
   "metadata": {},
   "outputs": [
    {
     "data": {
      "text/html": [
       "<div>\n",
       "<style scoped>\n",
       "    .dataframe tbody tr th:only-of-type {\n",
       "        vertical-align: middle;\n",
       "    }\n",
       "\n",
       "    .dataframe tbody tr th {\n",
       "        vertical-align: top;\n",
       "    }\n",
       "\n",
       "    .dataframe thead th {\n",
       "        text-align: right;\n",
       "    }\n",
       "</style>\n",
       "<table border=\"1\" class=\"dataframe\">\n",
       "  <thead>\n",
       "    <tr style=\"text-align: right;\">\n",
       "      <th></th>\n",
       "      <th>relative_support</th>\n",
       "      <th>model_running_time</th>\n",
       "    </tr>\n",
       "  </thead>\n",
       "  <tbody>\n",
       "    <tr>\n",
       "      <th>0</th>\n",
       "      <td>0.3</td>\n",
       "      <td>1.613287e+09</td>\n",
       "    </tr>\n",
       "    <tr>\n",
       "      <th>1</th>\n",
       "      <td>0.5</td>\n",
       "      <td>1.613287e+09</td>\n",
       "    </tr>\n",
       "    <tr>\n",
       "      <th>2</th>\n",
       "      <td>1.0</td>\n",
       "      <td>1.613287e+09</td>\n",
       "    </tr>\n",
       "    <tr>\n",
       "      <th>3</th>\n",
       "      <td>1.5</td>\n",
       "      <td>1.613287e+09</td>\n",
       "    </tr>\n",
       "    <tr>\n",
       "      <th>4</th>\n",
       "      <td>2.0</td>\n",
       "      <td>1.613287e+09</td>\n",
       "    </tr>\n",
       "  </tbody>\n",
       "</table>\n",
       "</div>"
      ],
      "text/plain": [
       "   relative_support  model_running_time\n",
       "0               0.3        1.613287e+09\n",
       "1               0.5        1.613287e+09\n",
       "2               1.0        1.613287e+09\n",
       "3               1.5        1.613287e+09\n",
       "4               2.0        1.613287e+09"
      ]
     },
     "execution_count": 32,
     "metadata": {},
     "output_type": "execute_result"
    }
   ],
   "source": [
    "T10I4D100K_apriori.head()"
   ]
  },
  {
   "cell_type": "code",
   "execution_count": 33,
   "metadata": {},
   "outputs": [],
   "source": [
    "T10I4D100K_apriori.to_csv(\"T10I4D100K_apriori.csv\",index=False)"
   ]
  },
  {
   "cell_type": "markdown",
   "metadata": {},
   "source": [
    "## T40I10D100K dataset"
   ]
  },
  {
   "cell_type": "code",
   "execution_count": 34,
   "metadata": {},
   "outputs": [],
   "source": [
    "T40I10D100K_apriori_time=[apriori_function(T40I10D100K, i) for i in T40I10D100K_relative_support]"
   ]
  },
  {
   "cell_type": "code",
   "execution_count": 35,
   "metadata": {},
   "outputs": [],
   "source": [
    "T40I10D100K_apriori=pd.DataFrame()\n",
    "T40I10D100K_apriori[\"relative_support\"]=T40I10D100K_relative_support\n",
    "T40I10D100K_apriori['model_running_time']=T10I4D100K_apriori_time"
   ]
  },
  {
   "cell_type": "code",
   "execution_count": 36,
   "metadata": {},
   "outputs": [
    {
     "data": {
      "text/html": [
       "<div>\n",
       "<style scoped>\n",
       "    .dataframe tbody tr th:only-of-type {\n",
       "        vertical-align: middle;\n",
       "    }\n",
       "\n",
       "    .dataframe tbody tr th {\n",
       "        vertical-align: top;\n",
       "    }\n",
       "\n",
       "    .dataframe thead th {\n",
       "        text-align: right;\n",
       "    }\n",
       "</style>\n",
       "<table border=\"1\" class=\"dataframe\">\n",
       "  <thead>\n",
       "    <tr style=\"text-align: right;\">\n",
       "      <th></th>\n",
       "      <th>relative_support</th>\n",
       "      <th>model_running_time</th>\n",
       "    </tr>\n",
       "  </thead>\n",
       "  <tbody>\n",
       "    <tr>\n",
       "      <th>0</th>\n",
       "      <td>0.3</td>\n",
       "      <td>1.613287e+09</td>\n",
       "    </tr>\n",
       "    <tr>\n",
       "      <th>1</th>\n",
       "      <td>0.5</td>\n",
       "      <td>1.613287e+09</td>\n",
       "    </tr>\n",
       "    <tr>\n",
       "      <th>2</th>\n",
       "      <td>1.0</td>\n",
       "      <td>1.613287e+09</td>\n",
       "    </tr>\n",
       "    <tr>\n",
       "      <th>3</th>\n",
       "      <td>1.5</td>\n",
       "      <td>1.613287e+09</td>\n",
       "    </tr>\n",
       "    <tr>\n",
       "      <th>4</th>\n",
       "      <td>2.0</td>\n",
       "      <td>1.613287e+09</td>\n",
       "    </tr>\n",
       "  </tbody>\n",
       "</table>\n",
       "</div>"
      ],
      "text/plain": [
       "   relative_support  model_running_time\n",
       "0               0.3        1.613287e+09\n",
       "1               0.5        1.613287e+09\n",
       "2               1.0        1.613287e+09\n",
       "3               1.5        1.613287e+09\n",
       "4               2.0        1.613287e+09"
      ]
     },
     "execution_count": 36,
     "metadata": {},
     "output_type": "execute_result"
    }
   ],
   "source": [
    "T40I10D100K_apriori.head()"
   ]
  },
  {
   "cell_type": "code",
   "execution_count": 37,
   "metadata": {},
   "outputs": [],
   "source": [
    "T40I10D100K_apriori.to_csv(\"T40I10D100K_apriori.csv\",index=False)"
   ]
  },
  {
   "cell_type": "markdown",
   "metadata": {},
   "source": [
    "## Mushroom dataset"
   ]
  },
  {
   "cell_type": "code",
   "execution_count": 38,
   "metadata": {},
   "outputs": [],
   "source": [
    "mushroom_apriori_time=[apriori_function(mushroom, i) for i in mushroom_relative_support]"
   ]
  },
  {
   "cell_type": "code",
   "execution_count": 39,
   "metadata": {},
   "outputs": [],
   "source": [
    "mushroom_apriori=pd.DataFrame()\n",
    "mushroom_apriori[\"relative_support\"]=mushroom_relative_support\n",
    "mushroom_apriori['model_running_time']=mushroom_apriori_time"
   ]
  },
  {
   "cell_type": "code",
   "execution_count": 40,
   "metadata": {},
   "outputs": [
    {
     "data": {
      "text/html": [
       "<div>\n",
       "<style scoped>\n",
       "    .dataframe tbody tr th:only-of-type {\n",
       "        vertical-align: middle;\n",
       "    }\n",
       "\n",
       "    .dataframe tbody tr th {\n",
       "        vertical-align: top;\n",
       "    }\n",
       "\n",
       "    .dataframe thead th {\n",
       "        text-align: right;\n",
       "    }\n",
       "</style>\n",
       "<table border=\"1\" class=\"dataframe\">\n",
       "  <thead>\n",
       "    <tr style=\"text-align: right;\">\n",
       "      <th></th>\n",
       "      <th>relative_support</th>\n",
       "      <th>model_running_time</th>\n",
       "    </tr>\n",
       "  </thead>\n",
       "  <tbody>\n",
       "    <tr>\n",
       "      <th>0</th>\n",
       "      <td>4</td>\n",
       "      <td>1.613287e+09</td>\n",
       "    </tr>\n",
       "    <tr>\n",
       "      <th>1</th>\n",
       "      <td>7</td>\n",
       "      <td>1.613287e+09</td>\n",
       "    </tr>\n",
       "    <tr>\n",
       "      <th>2</th>\n",
       "      <td>10</td>\n",
       "      <td>1.613287e+09</td>\n",
       "    </tr>\n",
       "    <tr>\n",
       "      <th>3</th>\n",
       "      <td>13</td>\n",
       "      <td>1.613287e+09</td>\n",
       "    </tr>\n",
       "    <tr>\n",
       "      <th>4</th>\n",
       "      <td>16</td>\n",
       "      <td>1.613287e+09</td>\n",
       "    </tr>\n",
       "  </tbody>\n",
       "</table>\n",
       "</div>"
      ],
      "text/plain": [
       "   relative_support  model_running_time\n",
       "0                 4        1.613287e+09\n",
       "1                 7        1.613287e+09\n",
       "2                10        1.613287e+09\n",
       "3                13        1.613287e+09\n",
       "4                16        1.613287e+09"
      ]
     },
     "execution_count": 40,
     "metadata": {},
     "output_type": "execute_result"
    }
   ],
   "source": [
    "mushroom_apriori.head()"
   ]
  },
  {
   "cell_type": "code",
   "execution_count": 41,
   "metadata": {},
   "outputs": [],
   "source": [
    "mushroom_apriori.to_csv(\"mushroom_apriori.csv\",index=False)"
   ]
  },
  {
   "cell_type": "markdown",
   "metadata": {},
   "source": [
    "# ECLAT"
   ]
  },
  {
   "cell_type": "code",
   "execution_count": 42,
   "metadata": {},
   "outputs": [],
   "source": [
    "from pyECLAT import ECLAT"
   ]
  },
  {
   "cell_type": "code",
   "execution_count": 43,
   "metadata": {},
   "outputs": [],
   "source": [
    "def eclat_function(dataset,min_support):\n",
    "    eclat_instance = ECLAT(data=dataset, verbose=False)\n",
    "    start = time.process_time()\n",
    "    get_ECLAT_indexes, get_ECLAT_supports = eclat_instance.fit(min_support=min_support,verbose=False,min_combination=1,\n",
    "                                                           max_combination=2)\n",
    "    elapsed_time_secs = time.time() - start\n",
    "    return elapsed_time_secs"
   ]
  },
  {
   "cell_type": "markdown",
   "metadata": {},
   "source": [
    "## T10I4D100K dataset"
   ]
  },
  {
   "cell_type": "code",
   "execution_count": 44,
   "metadata": {},
   "outputs": [],
   "source": [
    "T10I4D100K_df=pd.DataFrame(T10I4D100K)\n",
    "for i in range(len(T10I4D100K_df.columns)):\n",
    "    T10I4D100K_df[i]=T10I4D100K_df[i].astype(str)+\"_item\"\n",
    "    T10I4D100K_df[i].replace(\"None_item\",\"None\",inplace=True)"
   ]
  },
  {
   "cell_type": "code",
   "execution_count": null,
   "metadata": {},
   "outputs": [],
   "source": [
    "T10I4D100K_eclat_time=[eclat_function(T10I4D100K_df, i) for i in T10I4D100K_relative_support]\n"
   ]
  },
  {
   "cell_type": "code",
   "execution_count": null,
   "metadata": {},
   "outputs": [],
   "source": [
    "T10I4D100K_eclat=pd.DataFrame()\n",
    "T10I4D100K_eclat[\"relative_support\"]=T10I4D100K_relative_support\n",
    "T10I4D100K_eclat['model_running_time']=T10I4D100K_eclat_tim"
   ]
  },
  {
   "cell_type": "code",
   "execution_count": null,
   "metadata": {},
   "outputs": [],
   "source": [
    "T10I4D100K_eclat.head()"
   ]
  },
  {
   "cell_type": "code",
   "execution_count": null,
   "metadata": {},
   "outputs": [],
   "source": [
    "T10I4D100K_eclat.to_csv(\"T10I4D100K_eclat.csv\",index=False)"
   ]
  },
  {
   "cell_type": "markdown",
   "metadata": {},
   "source": [
    "## T40I10D100K dataset"
   ]
  },
  {
   "cell_type": "code",
   "execution_count": null,
   "metadata": {},
   "outputs": [],
   "source": [
    "T40I10D100K_df=pd.DataFrame(T40I10D100K)\n",
    "for i in range(len(T40I10D100K_df.columns)):\n",
    "    T40I10D100K_df[i]=T40I10D100K_df[i].astype(str)+\"_item\"\n",
    "    T40I10D100K_df[i].replace(\"None_item\",\"None\",inplace=True)"
   ]
  },
  {
   "cell_type": "code",
   "execution_count": null,
   "metadata": {},
   "outputs": [],
   "source": [
    "T40I10D100K_eclat_time=[eclat_function(T40I10D100K_df, i) for i in T40I10D100K_relative_support]\n",
    "T40I10D100K_eclat=pd.DataFrame()\n",
    "T40I10D100K_eclat[\"relative_support\"]=T40I10D100K_relative_support\n",
    "T40I10D100K_eclat['model_running_time']=T40I10D100K_eclat_time"
   ]
  },
  {
   "cell_type": "code",
   "execution_count": null,
   "metadata": {},
   "outputs": [],
   "source": [
    "T40I10D100K_eclat.head()"
   ]
  },
  {
   "cell_type": "code",
   "execution_count": null,
   "metadata": {},
   "outputs": [],
   "source": [
    "T40I10D100K_eclat.to_csv(\"T40I10D100K_eclat.csv\",index=False)"
   ]
  },
  {
   "cell_type": "markdown",
   "metadata": {},
   "source": [
    "## Mushroom dataset"
   ]
  },
  {
   "cell_type": "code",
   "execution_count": null,
   "metadata": {},
   "outputs": [],
   "source": [
    "mushroom_df=pd.DataFrame(mushroom)\n",
    "for i in range(len(mushroom_df.columns)):\n",
    "    mushroom_df[i]=mushroom_df[i].astype(str)+\"_item\"\n",
    "    mushroom_df[i].replace(\"None_item\",\"None\",inplace=True)"
   ]
  },
  {
   "cell_type": "code",
   "execution_count": null,
   "metadata": {},
   "outputs": [],
   "source": [
    "mushroom_eclat_time=[eclat_function(mushroom, i) for i in mushroom_relative_support]\n",
    "mushroom_eclat=pd.DataFrame()\n",
    "mushroom_eclat[\"relative_support\"]=mushroom_relative_support\n",
    "mushroom_eclat['model_running_time']=mushroom_eclat_time"
   ]
  },
  {
   "cell_type": "code",
   "execution_count": null,
   "metadata": {},
   "outputs": [],
   "source": [
    "mushroom_eclat.head()"
   ]
  },
  {
   "cell_type": "code",
   "execution_count": null,
   "metadata": {},
   "outputs": [],
   "source": [
    "mushroom_eclat.to_csv(\"mushroom_eclat.csv\",index=False)"
   ]
  },
  {
   "cell_type": "markdown",
   "metadata": {},
   "source": [
    "# FP Growth"
   ]
  },
  {
   "cell_type": "code",
   "execution_count": 46,
   "metadata": {},
   "outputs": [],
   "source": [
    "from mlxtend.preprocessing import TransactionEncoder\n",
    "from mlxtend.frequent_patterns import fpgrowth"
   ]
  },
  {
   "cell_type": "code",
   "execution_count": 47,
   "metadata": {},
   "outputs": [],
   "source": [
    "def fp_growth_function(dataset,min_support):\n",
    "    te = TransactionEncoder()\n",
    "    te_ary = te.fit(dataset).transform(dataset)\n",
    "    df = pd.DataFrame(te_ary, columns=te.columns_)\n",
    "    start = time.process_time()\n",
    "    fpgrowth(df, min_support=min_support/100, use_colnames=True)\n",
    "    elapsed_time_secs = time.time() - start\n",
    "    return elapsed_time_secs"
   ]
  },
  {
   "cell_type": "markdown",
   "metadata": {},
   "source": [
    "## T10I4D100K dataset"
   ]
  },
  {
   "cell_type": "code",
   "execution_count": null,
   "metadata": {},
   "outputs": [],
   "source": [
    "T10I4D100K_fpgrowth_time=[fp_growth_function(T10I4D100K, i) for i in T10I4D100K_relative_support]\n",
    "T10I4D100K_fpgrowth=pd.DataFrame()\n",
    "T10I4D100K_fpgrowth[\"relative_support\"]=T10I4D100K_relative_support\n",
    "T10I4D100K_fpgrowth['model_running_time']=T10I4D100K_fpgrowth_time"
   ]
  },
  {
   "cell_type": "code",
   "execution_count": null,
   "metadata": {},
   "outputs": [],
   "source": [
    "T10I4D100K_fpgrowth.head()"
   ]
  },
  {
   "cell_type": "code",
   "execution_count": null,
   "metadata": {},
   "outputs": [],
   "source": [
    "T10I4D100K_fpgrowth.to_csv(\"T10I4D100K_fpgrowth.csv\",index=False)"
   ]
  },
  {
   "cell_type": "markdown",
   "metadata": {},
   "source": [
    "## T40I10D100K dataset"
   ]
  },
  {
   "cell_type": "code",
   "execution_count": null,
   "metadata": {},
   "outputs": [],
   "source": [
    "T40I10D100K_fpgrowth_time=[fp_growth_function(T40I10D100K, i) for i in T40I10D100K_relative_support]\n",
    "T40I10D100K_fpgrowth=pd.DataFrame()\n",
    "T40I10D100K_fpgrowth[\"relative_support\"]=T40I10D100K_relative_support\n",
    "T40I10D100K_fpgrowth['model_running_time']=T40I10D100K_fpgrowth_time"
   ]
  },
  {
   "cell_type": "code",
   "execution_count": null,
   "metadata": {},
   "outputs": [],
   "source": [
    "T40I10D100K_fpgrowth.head()"
   ]
  },
  {
   "cell_type": "code",
   "execution_count": null,
   "metadata": {},
   "outputs": [],
   "source": [
    "T40I10D100K_fpgrowth.to_csv(\"T40I10D100K_fpgrowth.csv\",index=False)"
   ]
  },
  {
   "cell_type": "markdown",
   "metadata": {},
   "source": [
    "## Mushroom dataset"
   ]
  },
  {
   "cell_type": "code",
   "execution_count": null,
   "metadata": {},
   "outputs": [],
   "source": [
    "mushroom_fpgrowth_time=[fp_growth_function(mushroom, i) for i in mushroom_relative_support]\n",
    "mushroom_fpgrowth=pd.DataFrame()\n",
    "mushroom_fpgrowth[\"relative_support\"]=mushroom_relative_support\n",
    "mushroom_fpgrowth['model_running_time']=mushroom_fpgrowth_time"
   ]
  },
  {
   "cell_type": "code",
   "execution_count": null,
   "metadata": {},
   "outputs": [],
   "source": [
    "mushroom_fpgrowth.head()"
   ]
  },
  {
   "cell_type": "code",
   "execution_count": null,
   "metadata": {},
   "outputs": [],
   "source": [
    "mushroom_fpgrowth.to_csv(\"mushroom_fpgrowth.csv\",index=False)"
   ]
  },
  {
   "cell_type": "markdown",
   "metadata": {},
   "source": [
    "# Analyzer"
   ]
  },
  {
   "cell_type": "code",
   "execution_count": 49,
   "metadata": {},
   "outputs": [],
   "source": [
    "import matplotlib.pyplot as plt\n",
    "import warnings\n",
    "import numpy as np\n",
    "warnings.filterwarnings(\"ignore\")"
   ]
  },
  {
   "cell_type": "code",
   "execution_count": null,
   "metadata": {},
   "outputs": [],
   "source": [
    "T10I4D100K_eclat=pd.read_csv(\"T10I4D100K_eclat.csv\")\n",
    "T10I4D100K_apriori=pd.read_csv(\"T10I4D100K_apriori.csv\")\n",
    "T10I4D100K_fpgrowth=pd.read_csv(\"T10I4D100K_fpgrowth.csv\")\n",
    "\n",
    "T40I10D100K_eclat=pd.read_csv(\"T40I10D100K_eclat.csv\")\n",
    "T40I10D100K_apriori=pd.read_csv(\"T40I10D100K_apriori.csv\")\n",
    "T40I10D100K_fpgrowth=pd.read_csv(\"T40I10D100K_fpgrowth.csv\")\n",
    "\n",
    "mushroom_eclat=pd.read_csv(\"mushroom_eclat.csv\")\n",
    "mushroom_apriori=pd.read_csv(\"mushroom_apriori.csv\")\n",
    "mushroom_fpgrowth=pd.read_csv(\"mushroom_fpgrowth.csv\")"
   ]
  },
  {
   "cell_type": "code",
   "execution_count": null,
   "metadata": {},
   "outputs": [],
   "source": [
    "plt.plot(T10I4D100K_eclat[\"relative_support\"], np.log(T10I4D100K_eclat[\"model_running_time\"]), label = \"Eclat\")\n",
    "plt.plot(T10I4D100K_apriori[\"relative_support\"], np.log(T10I4D100K_apriori[\"model_running_time\"]), label = \"apriori\")\n",
    "plt.plot(T10I4D100K_fpgrowth[\"relative_support\"], np.log(T10I4D100K_fpgrowth[\"model_running_time\"]), label = \"fpgrowth\")\n",
    "plt.title(\"Elapsed time for T10I4D100K data\")\n",
    "plt.legend(loc=\"upper left\")\n",
    "plt.show()"
   ]
  },
  {
   "cell_type": "code",
   "execution_count": null,
   "metadata": {},
   "outputs": [],
   "source": [
    "plt.plot(T40I10D100K_eclat[\"relative_support\"], np.log(T40I10D100K_eclat[\"model_running_time\"]), label = \"Eclat\")\n",
    "plt.plot(T40I10D100K_apriori[\"relative_support\"], np.log(T40I10D100K_apriori[\"model_running_time\"]), label = \"apriori\")\n",
    "plt.plot(T40I10D100K_fpgrowth[\"relative_support\"], np.log(T40I10D100K_fpgrowth[\"model_running_time\"]), label = \"fpgrowth\")\n",
    "plt.title(\"Elapsed time for T40I10D100K data\")\n",
    "plt.legend(loc=\"upper left\")\n",
    "plt.show()"
   ]
  },
  {
   "cell_type": "code",
   "execution_count": null,
   "metadata": {},
   "outputs": [],
   "source": [
    "plt.plot(mushroom_eclat[\"relative_support\"], np.log(mushroom_eclat[\"model_running_time\"]), label = \"Eclat\")\n",
    "plt.plot(mushroom_apriori[\"relative_support\"], np.log(mushroom_apriori[\"model_running_time\"]), label = \"apriori\")\n",
    "plt.plot(mushroom_fpgrowth[\"relative_support\"], np.log(mushroom_fpgrowth[\"model_running_time\"]), label = \"fpgrowth\")\n",
    "plt.title(\"Elapsed time for mushroomdata\")\n",
    "plt.legend(loc=\"upper left\")\n",
    "plt.show()"
   ]
  }
 ],
 "metadata": {
  "kernelspec": {
   "display_name": "Python 3",
   "language": "python",
   "name": "python3"
  },
  "language_info": {
   "codemirror_mode": {
    "name": "ipython",
    "version": 3
   },
   "file_extension": ".py",
   "mimetype": "text/x-python",
   "name": "python",
   "nbconvert_exporter": "python",
   "pygments_lexer": "ipython3",
   "version": "3.6.9"
  }
 },
 "nbformat": 4,
 "nbformat_minor": 4
}
